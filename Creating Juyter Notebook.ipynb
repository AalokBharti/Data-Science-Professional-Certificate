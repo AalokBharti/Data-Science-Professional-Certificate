{
    "cells": [
        {
            "cell_type": "markdown",
            "metadata": {
                "collapsed": true
            },
            "source": "# My Jupyter Notebook on IBM Watson Studio"
        },
        {
            "cell_type": "markdown",
            "metadata": {},
            "source": "### Alok Kumar Bharti\nPostgraduate Student at IIT, BHU"
        },
        {
            "cell_type": "markdown",
            "metadata": {},
            "source": "*I am interested in data science because I would love to exploring data and extrating insight from data and contribute towards affordable and quality healthcare in the future*"
        },
        {
            "cell_type": "markdown",
            "metadata": {},
            "source": "### The below should print my name 'Aalok Kumar Bharti'"
        },
        {
            "cell_type": "code",
            "execution_count": 1,
            "metadata": {},
            "outputs": [
                {
                    "name": "stdout",
                    "output_type": "stream",
                    "text": "Aalok Kumar Bharti\n"
                }
            ],
            "source": "print(\"Aalok Kumar Bharti\")"
        },
        {
            "cell_type": "markdown",
            "metadata": {},
            "source": "* Bullet list\n1. Numbered List\n\n#### Link\n\n[Google link](https://www.google.com)\n\n#### Image\n![alt text](https://github.com/adam-p/markdown-here/raw/master/src/common/images/icon48.png \"Logo Title Text 1\")"
        },
        {
            "cell_type": "code",
            "execution_count": null,
            "metadata": {},
            "outputs": [],
            "source": ""
        }
    ],
    "metadata": {
        "kernelspec": {
            "display_name": "Python 3.7",
            "language": "python",
            "name": "python3"
        },
        "language_info": {
            "codemirror_mode": {
                "name": "ipython",
                "version": 3
            },
            "file_extension": ".py",
            "mimetype": "text/x-python",
            "name": "python",
            "nbconvert_exporter": "python",
            "pygments_lexer": "ipython3",
            "version": "3.7.10"
        }
    },
    "nbformat": 4,
    "nbformat_minor": 1
}